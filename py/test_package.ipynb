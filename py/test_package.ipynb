{
  "nbformat": 4,
  "nbformat_minor": 0,
  "metadata": {
    "colab": {
      "provenance": [],
      "gpuType": "T4"
    },
    "kernelspec": {
      "name": "python3",
      "display_name": "Python 3"
    },
    "language_info": {
      "name": "python"
    },
    "accelerator": "GPU"
  },
  "cells": [
    {
      "cell_type": "markdown",
      "source": [
        "# Testing the network builder and shrinker from the Tiny ML toolkit\n",
        "\n",
        "### Installing package - RUNTIME RESTART REQUIRED AFTER INSTALL\n",
        "I'll move the package to the tiny repository soon I just couldnt work out how to import it from there lol"
      ],
      "metadata": {
        "id": "sQwXoPaNMKvJ"
      }
    },
    {
      "cell_type": "code",
      "execution_count": 1,
      "metadata": {
        "colab": {
          "base_uri": "https://localhost:8080/"
        },
        "id": "s6Ld9KrVFArt",
        "outputId": "774bd3fe-a820-4981-cca6-9051ffc10a90"
      },
      "outputs": [
        {
          "output_type": "stream",
          "name": "stdout",
          "text": [
            "Looking in indexes: https://pypi.org/simple, https://us-python.pkg.dev/colab-wheels/public/simple/\n",
            "Collecting git+https://github.com/olliekemp/TinyMLtoolkit\n",
            "  Cloning https://github.com/olliekemp/TinyMLtoolkit to /tmp/pip-req-build-4zj9eer6\n",
            "  Running command git clone --filter=blob:none --quiet https://github.com/olliekemp/TinyMLtoolkit /tmp/pip-req-build-4zj9eer6\n",
            "  Resolved https://github.com/olliekemp/TinyMLtoolkit to commit ec45a0b13b0366ae4ecad2416b8c21b17e7cc655\n",
            "  Preparing metadata (setup.py) ... \u001b[?25l\u001b[?25hdone\n",
            "Requirement already satisfied: scikit-learn in /usr/local/lib/python3.10/dist-packages (from tinymltoolkit==0.1) (1.2.2)\n",
            "Requirement already satisfied: numpy in /usr/local/lib/python3.10/dist-packages (from tinymltoolkit==0.1) (1.23.5)\n",
            "Requirement already satisfied: tensorflow in /usr/local/lib/python3.10/dist-packages (from tinymltoolkit==0.1) (2.12.0)\n",
            "Requirement already satisfied: optuna in /usr/local/lib/python3.10/dist-packages (from tinymltoolkit==0.1) (3.2.0)\n",
            "Requirement already satisfied: tensorflow_model_optimization in /usr/local/lib/python3.10/dist-packages (from tinymltoolkit==0.1) (0.7.5)\n",
            "Requirement already satisfied: tqdm in /usr/local/lib/python3.10/dist-packages (from tinymltoolkit==0.1) (4.65.0)\n",
            "Requirement already satisfied: alembic>=1.5.0 in /usr/local/lib/python3.10/dist-packages (from optuna->tinymltoolkit==0.1) (1.11.1)\n",
            "Requirement already satisfied: cmaes>=0.9.1 in /usr/local/lib/python3.10/dist-packages (from optuna->tinymltoolkit==0.1) (0.9.1)\n",
            "Requirement already satisfied: colorlog in /usr/local/lib/python3.10/dist-packages (from optuna->tinymltoolkit==0.1) (6.7.0)\n",
            "Requirement already satisfied: packaging>=20.0 in /usr/local/lib/python3.10/dist-packages (from optuna->tinymltoolkit==0.1) (23.1)\n",
            "Requirement already satisfied: sqlalchemy>=1.3.0 in /usr/local/lib/python3.10/dist-packages (from optuna->tinymltoolkit==0.1) (2.0.10)\n",
            "Requirement already satisfied: PyYAML in /usr/local/lib/python3.10/dist-packages (from optuna->tinymltoolkit==0.1) (6.0)\n",
            "Requirement already satisfied: scipy>=1.3.2 in /usr/local/lib/python3.10/dist-packages (from scikit-learn->tinymltoolkit==0.1) (1.10.1)\n",
            "Requirement already satisfied: joblib>=1.1.1 in /usr/local/lib/python3.10/dist-packages (from scikit-learn->tinymltoolkit==0.1) (1.2.0)\n",
            "Requirement already satisfied: threadpoolctl>=2.0.0 in /usr/local/lib/python3.10/dist-packages (from scikit-learn->tinymltoolkit==0.1) (3.1.0)\n",
            "Requirement already satisfied: absl-py>=1.0.0 in /usr/local/lib/python3.10/dist-packages (from tensorflow->tinymltoolkit==0.1) (1.4.0)\n",
            "Requirement already satisfied: astunparse>=1.6.0 in /usr/local/lib/python3.10/dist-packages (from tensorflow->tinymltoolkit==0.1) (1.6.3)\n",
            "Requirement already satisfied: flatbuffers>=2.0 in /usr/local/lib/python3.10/dist-packages (from tensorflow->tinymltoolkit==0.1) (23.3.3)\n",
            "Requirement already satisfied: gast<=0.4.0,>=0.2.1 in /usr/local/lib/python3.10/dist-packages (from tensorflow->tinymltoolkit==0.1) (0.4.0)\n",
            "Requirement already satisfied: google-pasta>=0.1.1 in /usr/local/lib/python3.10/dist-packages (from tensorflow->tinymltoolkit==0.1) (0.2.0)\n",
            "Requirement already satisfied: grpcio<2.0,>=1.24.3 in /usr/local/lib/python3.10/dist-packages (from tensorflow->tinymltoolkit==0.1) (1.54.0)\n",
            "Requirement already satisfied: h5py>=2.9.0 in /usr/local/lib/python3.10/dist-packages (from tensorflow->tinymltoolkit==0.1) (3.8.0)\n",
            "Requirement already satisfied: jax>=0.3.15 in /usr/local/lib/python3.10/dist-packages (from tensorflow->tinymltoolkit==0.1) (0.4.10)\n",
            "Requirement already satisfied: keras<2.13,>=2.12.0 in /usr/local/lib/python3.10/dist-packages (from tensorflow->tinymltoolkit==0.1) (2.12.0)\n",
            "Requirement already satisfied: libclang>=13.0.0 in /usr/local/lib/python3.10/dist-packages (from tensorflow->tinymltoolkit==0.1) (16.0.0)\n",
            "Requirement already satisfied: opt-einsum>=2.3.2 in /usr/local/lib/python3.10/dist-packages (from tensorflow->tinymltoolkit==0.1) (3.3.0)\n",
            "Requirement already satisfied: protobuf!=4.21.0,!=4.21.1,!=4.21.2,!=4.21.3,!=4.21.4,!=4.21.5,<5.0.0dev,>=3.20.3 in /usr/local/lib/python3.10/dist-packages (from tensorflow->tinymltoolkit==0.1) (3.20.3)\n",
            "Requirement already satisfied: setuptools in /usr/local/lib/python3.10/dist-packages (from tensorflow->tinymltoolkit==0.1) (67.7.2)\n",
            "Requirement already satisfied: six>=1.12.0 in /usr/local/lib/python3.10/dist-packages (from tensorflow->tinymltoolkit==0.1) (1.16.0)\n",
            "Requirement already satisfied: tensorboard<2.13,>=2.12 in /usr/local/lib/python3.10/dist-packages (from tensorflow->tinymltoolkit==0.1) (2.12.2)\n",
            "Requirement already satisfied: tensorflow-estimator<2.13,>=2.12.0 in /usr/local/lib/python3.10/dist-packages (from tensorflow->tinymltoolkit==0.1) (2.12.0)\n",
            "Requirement already satisfied: termcolor>=1.1.0 in /usr/local/lib/python3.10/dist-packages (from tensorflow->tinymltoolkit==0.1) (2.3.0)\n",
            "Requirement already satisfied: typing-extensions>=3.6.6 in /usr/local/lib/python3.10/dist-packages (from tensorflow->tinymltoolkit==0.1) (4.5.0)\n",
            "Requirement already satisfied: wrapt<1.15,>=1.11.0 in /usr/local/lib/python3.10/dist-packages (from tensorflow->tinymltoolkit==0.1) (1.14.1)\n",
            "Requirement already satisfied: tensorflow-io-gcs-filesystem>=0.23.1 in /usr/local/lib/python3.10/dist-packages (from tensorflow->tinymltoolkit==0.1) (0.32.0)\n",
            "Requirement already satisfied: dm-tree~=0.1.1 in /usr/local/lib/python3.10/dist-packages (from tensorflow_model_optimization->tinymltoolkit==0.1) (0.1.8)\n",
            "Requirement already satisfied: Mako in /usr/local/lib/python3.10/dist-packages (from alembic>=1.5.0->optuna->tinymltoolkit==0.1) (1.2.4)\n",
            "Requirement already satisfied: wheel<1.0,>=0.23.0 in /usr/local/lib/python3.10/dist-packages (from astunparse>=1.6.0->tensorflow->tinymltoolkit==0.1) (0.40.0)\n",
            "Requirement already satisfied: ml-dtypes>=0.1.0 in /usr/local/lib/python3.10/dist-packages (from jax>=0.3.15->tensorflow->tinymltoolkit==0.1) (0.1.0)\n",
            "Requirement already satisfied: greenlet!=0.4.17 in /usr/local/lib/python3.10/dist-packages (from sqlalchemy>=1.3.0->optuna->tinymltoolkit==0.1) (2.0.2)\n",
            "Requirement already satisfied: google-auth<3,>=1.6.3 in /usr/local/lib/python3.10/dist-packages (from tensorboard<2.13,>=2.12->tensorflow->tinymltoolkit==0.1) (2.17.3)\n",
            "Requirement already satisfied: google-auth-oauthlib<1.1,>=0.5 in /usr/local/lib/python3.10/dist-packages (from tensorboard<2.13,>=2.12->tensorflow->tinymltoolkit==0.1) (1.0.0)\n",
            "Requirement already satisfied: markdown>=2.6.8 in /usr/local/lib/python3.10/dist-packages (from tensorboard<2.13,>=2.12->tensorflow->tinymltoolkit==0.1) (3.4.3)\n",
            "Requirement already satisfied: requests<3,>=2.21.0 in /usr/local/lib/python3.10/dist-packages (from tensorboard<2.13,>=2.12->tensorflow->tinymltoolkit==0.1) (2.27.1)\n",
            "Requirement already satisfied: tensorboard-data-server<0.8.0,>=0.7.0 in /usr/local/lib/python3.10/dist-packages (from tensorboard<2.13,>=2.12->tensorflow->tinymltoolkit==0.1) (0.7.0)\n",
            "Requirement already satisfied: tensorboard-plugin-wit>=1.6.0 in /usr/local/lib/python3.10/dist-packages (from tensorboard<2.13,>=2.12->tensorflow->tinymltoolkit==0.1) (1.8.1)\n",
            "Requirement already satisfied: werkzeug>=1.0.1 in /usr/local/lib/python3.10/dist-packages (from tensorboard<2.13,>=2.12->tensorflow->tinymltoolkit==0.1) (2.3.0)\n",
            "Requirement already satisfied: cachetools<6.0,>=2.0.0 in /usr/local/lib/python3.10/dist-packages (from google-auth<3,>=1.6.3->tensorboard<2.13,>=2.12->tensorflow->tinymltoolkit==0.1) (5.3.0)\n",
            "Requirement already satisfied: pyasn1-modules>=0.2.1 in /usr/local/lib/python3.10/dist-packages (from google-auth<3,>=1.6.3->tensorboard<2.13,>=2.12->tensorflow->tinymltoolkit==0.1) (0.3.0)\n",
            "Requirement already satisfied: rsa<5,>=3.1.4 in /usr/local/lib/python3.10/dist-packages (from google-auth<3,>=1.6.3->tensorboard<2.13,>=2.12->tensorflow->tinymltoolkit==0.1) (4.9)\n",
            "Requirement already satisfied: requests-oauthlib>=0.7.0 in /usr/local/lib/python3.10/dist-packages (from google-auth-oauthlib<1.1,>=0.5->tensorboard<2.13,>=2.12->tensorflow->tinymltoolkit==0.1) (1.3.1)\n",
            "Requirement already satisfied: urllib3<1.27,>=1.21.1 in /usr/local/lib/python3.10/dist-packages (from requests<3,>=2.21.0->tensorboard<2.13,>=2.12->tensorflow->tinymltoolkit==0.1) (1.26.15)\n",
            "Requirement already satisfied: certifi>=2017.4.17 in /usr/local/lib/python3.10/dist-packages (from requests<3,>=2.21.0->tensorboard<2.13,>=2.12->tensorflow->tinymltoolkit==0.1) (2022.12.7)\n",
            "Requirement already satisfied: charset-normalizer~=2.0.0 in /usr/local/lib/python3.10/dist-packages (from requests<3,>=2.21.0->tensorboard<2.13,>=2.12->tensorflow->tinymltoolkit==0.1) (2.0.12)\n",
            "Requirement already satisfied: idna<4,>=2.5 in /usr/local/lib/python3.10/dist-packages (from requests<3,>=2.21.0->tensorboard<2.13,>=2.12->tensorflow->tinymltoolkit==0.1) (3.4)\n",
            "Requirement already satisfied: MarkupSafe>=2.1.1 in /usr/local/lib/python3.10/dist-packages (from werkzeug>=1.0.1->tensorboard<2.13,>=2.12->tensorflow->tinymltoolkit==0.1) (2.1.2)\n",
            "Requirement already satisfied: pyasn1<0.6.0,>=0.4.6 in /usr/local/lib/python3.10/dist-packages (from pyasn1-modules>=0.2.1->google-auth<3,>=1.6.3->tensorboard<2.13,>=2.12->tensorflow->tinymltoolkit==0.1) (0.5.0)\n",
            "Requirement already satisfied: oauthlib>=3.0.0 in /usr/local/lib/python3.10/dist-packages (from requests-oauthlib>=0.7.0->google-auth-oauthlib<1.1,>=0.5->tensorboard<2.13,>=2.12->tensorflow->tinymltoolkit==0.1) (3.2.2)\n"
          ]
        }
      ],
      "source": [
        "!pip install git+https://github.com/olliekemp/TinyMLtoolkit"
      ]
    },
    {
      "cell_type": "markdown",
      "source": [
        "### Importing functions from tinymltoolkit and importing other packages (REMEMBER TO RESTART RUNTIME)"
      ],
      "metadata": {
        "id": "EzxsesEPMdR4"
      }
    },
    {
      "cell_type": "code",
      "source": [
        "import numpy as np\n",
        "import tensorflow as tf\n",
        "from sklearn import datasets\n",
        "from sklearn.model_selection import train_test_split\n",
        "\n",
        "from tinymltoolkit.network_builder import CNNClassifier, GeneralNNRegressor\n",
        "from tinymltoolkit.network_shrinker import save_keras_as_tflite_base, run_tflite_model, get_tflite_model_size,  prune_quantize_save_model"
      ],
      "metadata": {
        "id": "vUYxeB-lFBY6"
      },
      "execution_count": 5,
      "outputs": []
    },
    {
      "cell_type": "markdown",
      "source": [
        "### Loading and preprocessing MNIST dataset"
      ],
      "metadata": {
        "id": "6W9grXH5Nj9a"
      }
    },
    {
      "cell_type": "code",
      "source": [
        "(X_train, y_train), (X_test, y_test) = tf.keras.datasets.mnist.load_data()\n",
        "# Convert images from int to float between 0 and 1\n",
        "X_train = X_train / 255\n",
        "X_test = X_test / 255"
      ],
      "metadata": {
        "id": "BNmOirhHFN7W"
      },
      "execution_count": 6,
      "outputs": []
    },
    {
      "cell_type": "markdown",
      "source": [
        "### Initialising the model builder and getting the best trained model"
      ],
      "metadata": {
        "id": "Jo7iQsMOONKs"
      }
    },
    {
      "cell_type": "code",
      "source": [
        "# Instantiate CNNClassifier class\n",
        "model_builder = CNNClassifier(X_train, y_train, n_trials=10)\n",
        "\n",
        "# Run find the best model architecture and hyperparameters, and train the best model\n",
        "model = model_builder.get_best_trained_model()"
      ],
      "metadata": {
        "colab": {
          "base_uri": "https://localhost:8080/"
        },
        "id": "ghnDD4ECN8il",
        "outputId": "d9c9bcee-a008-426e-9358-09012243b920"
      },
      "execution_count": 7,
      "outputs": [
        {
          "output_type": "stream",
          "name": "stderr",
          "text": [
            "[I 2023-06-07 15:20:06,244] A new study created in memory with name: no-name-0d3a5030-063e-4279-839a-d6d1d08ac2ad\n"
          ]
        },
        {
          "output_type": "stream",
          "name": "stdout",
          "text": [
            "{'num_conv_layers': 3, 'learning_rate': 0.08320046113016134, 'filters_0': 45, 'kernel_size_0': 5, 'pool_size_0': 3, 'filters_1': 103, 'kernel_size_1': 6, 'pool_size_1': 4, 'filters_2': 10, 'kernel_size_2': 5, 'pool_size_2': 3}\n"
          ]
        },
        {
          "output_type": "stream",
          "name": "stderr",
          "text": [
            "[I 2023-06-07 15:21:38,415] Trial 0 finished with values: [0.10958333313465118, 194003.0] and parameters: {'num_conv_layers': 3, 'learning_rate': 0.08320046113016134, 'filters_0': 45, 'kernel_size_0': 5, 'pool_size_0': 3, 'filters_1': 103, 'kernel_size_1': 6, 'pool_size_1': 4, 'filters_2': 10, 'kernel_size_2': 5, 'pool_size_2': 3}. \n"
          ]
        },
        {
          "output_type": "stream",
          "name": "stdout",
          "text": [
            "Score: 0.10958333313465118, Model size: 194003\n",
            "{'num_conv_layers': 3, 'learning_rate': 0.04924060358002205, 'filters_0': 85, 'kernel_size_0': 6, 'pool_size_0': 3, 'filters_1': 108, 'kernel_size_1': 5, 'pool_size_1': 4, 'filters_2': 101, 'kernel_size_2': 5, 'pool_size_2': 3}\n"
          ]
        },
        {
          "output_type": "stream",
          "name": "stderr",
          "text": [
            "[I 2023-06-07 15:23:30,310] Trial 1 finished with values: [0.6097999900579453, 506574.0] and parameters: {'num_conv_layers': 3, 'learning_rate': 0.04924060358002205, 'filters_0': 85, 'kernel_size_0': 6, 'pool_size_0': 3, 'filters_1': 108, 'kernel_size_1': 5, 'pool_size_1': 4, 'filters_2': 101, 'kernel_size_2': 5, 'pool_size_2': 3}. \n"
          ]
        },
        {
          "output_type": "stream",
          "name": "stdout",
          "text": [
            "Score: 0.6097999900579453, Model size: 506574\n",
            "{'num_conv_layers': 2, 'learning_rate': 0.07192008820895322, 'filters_0': 79, 'kernel_size_0': 7, 'pool_size_0': 2, 'filters_1': 99, 'kernel_size_1': 5, 'pool_size_1': 4}\n"
          ]
        },
        {
          "output_type": "stream",
          "name": "stderr",
          "text": [
            "[I 2023-06-07 15:26:31,719] Trial 2 finished with values: [0.7989333391189575, 208494.0] and parameters: {'num_conv_layers': 2, 'learning_rate': 0.07192008820895322, 'filters_0': 79, 'kernel_size_0': 7, 'pool_size_0': 2, 'filters_1': 99, 'kernel_size_1': 5, 'pool_size_1': 4}. \n"
          ]
        },
        {
          "output_type": "stream",
          "name": "stdout",
          "text": [
            "Score: 0.7989333391189575, Model size: 208494\n",
            "{'num_conv_layers': 3, 'learning_rate': 0.05964128559215959, 'filters_0': 49, 'kernel_size_0': 4, 'pool_size_0': 2, 'filters_1': 25, 'kernel_size_1': 4, 'pool_size_1': 2, 'filters_2': 15, 'kernel_size_2': 3, 'pool_size_2': 3}\n"
          ]
        },
        {
          "output_type": "stream",
          "name": "stderr",
          "text": [
            "[I 2023-06-07 15:27:48,332] Trial 3 finished with values: [0.44991666078567505, 24458.0] and parameters: {'num_conv_layers': 3, 'learning_rate': 0.05964128559215959, 'filters_0': 49, 'kernel_size_0': 4, 'pool_size_0': 2, 'filters_1': 25, 'kernel_size_1': 4, 'pool_size_1': 2, 'filters_2': 15, 'kernel_size_2': 3, 'pool_size_2': 3}. \n"
          ]
        },
        {
          "output_type": "stream",
          "name": "stdout",
          "text": [
            "Score: 0.44991666078567505, Model size: 24458\n",
            "{'num_conv_layers': 3, 'learning_rate': 0.025119330198107886, 'filters_0': 89, 'kernel_size_0': 5, 'pool_size_0': 4, 'filters_1': 60, 'kernel_size_1': 7, 'pool_size_1': 4, 'filters_2': 101, 'kernel_size_2': 3, 'pool_size_2': 2}\n"
          ]
        },
        {
          "output_type": "stream",
          "name": "stderr",
          "text": [
            "[I 2023-06-07 15:29:15,833] Trial 4 finished with values: [0.28188333064317705, 319695.0] and parameters: {'num_conv_layers': 3, 'learning_rate': 0.025119330198107886, 'filters_0': 89, 'kernel_size_0': 5, 'pool_size_0': 4, 'filters_1': 60, 'kernel_size_1': 7, 'pool_size_1': 4, 'filters_2': 101, 'kernel_size_2': 3, 'pool_size_2': 2}. \n"
          ]
        },
        {
          "output_type": "stream",
          "name": "stdout",
          "text": [
            "Score: 0.28188333064317705, Model size: 319695\n",
            "{'num_conv_layers': 3, 'learning_rate': 0.01054599820491347, 'filters_0': 107, 'kernel_size_0': 5, 'pool_size_0': 3, 'filters_1': 111, 'kernel_size_1': 5, 'pool_size_1': 4, 'filters_2': 85, 'kernel_size_2': 7, 'pool_size_2': 2}\n"
          ]
        },
        {
          "output_type": "stream",
          "name": "stderr",
          "text": [
            "[I 2023-06-07 15:32:36,318] Trial 5 finished with values: [0.9821999907493592, 763078.0] and parameters: {'num_conv_layers': 3, 'learning_rate': 0.01054599820491347, 'filters_0': 107, 'kernel_size_0': 5, 'pool_size_0': 3, 'filters_1': 111, 'kernel_size_1': 5, 'pool_size_1': 4, 'filters_2': 85, 'kernel_size_2': 7, 'pool_size_2': 2}. \n"
          ]
        },
        {
          "output_type": "stream",
          "name": "stdout",
          "text": [
            "Score: 0.9821999907493592, Model size: 763078\n",
            "{'num_conv_layers': 1, 'learning_rate': 0.011138505822337028, 'filters_0': 123, 'kernel_size_0': 4, 'pool_size_0': 2}\n"
          ]
        },
        {
          "output_type": "stream",
          "name": "stderr",
          "text": [
            "[I 2023-06-07 15:34:20,157] Trial 6 finished with values: [0.9837000012397766, 243181.0] and parameters: {'num_conv_layers': 1, 'learning_rate': 0.011138505822337028, 'filters_0': 123, 'kernel_size_0': 4, 'pool_size_0': 2}. \n"
          ]
        },
        {
          "output_type": "stream",
          "name": "stdout",
          "text": [
            "Score: 0.9837000012397766, Model size: 243181\n",
            "{'num_conv_layers': 3, 'learning_rate': 0.028789913568342734, 'filters_0': 117, 'kernel_size_0': 4, 'pool_size_0': 2, 'filters_1': 40, 'kernel_size_1': 7, 'pool_size_1': 4, 'filters_2': 47, 'kernel_size_2': 4, 'pool_size_2': 2}\n"
          ]
        },
        {
          "output_type": "stream",
          "name": "stderr",
          "text": [
            "[I 2023-06-07 15:37:04,485] Trial 7 finished with values: [0.9702333211898804, 261956.0] and parameters: {'num_conv_layers': 3, 'learning_rate': 0.028789913568342734, 'filters_0': 117, 'kernel_size_0': 4, 'pool_size_0': 2, 'filters_1': 40, 'kernel_size_1': 7, 'pool_size_1': 4, 'filters_2': 47, 'kernel_size_2': 4, 'pool_size_2': 2}. \n"
          ]
        },
        {
          "output_type": "stream",
          "name": "stdout",
          "text": [
            "Score: 0.9702333211898804, Model size: 261956\n",
            "{'num_conv_layers': 3, 'learning_rate': 0.028032552841445908, 'filters_0': 89, 'kernel_size_0': 5, 'pool_size_0': 4, 'filters_1': 41, 'kernel_size_1': 7, 'pool_size_1': 2, 'filters_2': 84, 'kernel_size_2': 7, 'pool_size_2': 3}\n"
          ]
        },
        {
          "output_type": "stream",
          "name": "stderr",
          "text": [
            "[I 2023-06-07 15:38:51,733] Trial 8 finished with values: [0.2842500075697899, 350846.0] and parameters: {'num_conv_layers': 3, 'learning_rate': 0.028032552841445908, 'filters_0': 89, 'kernel_size_0': 5, 'pool_size_0': 4, 'filters_1': 41, 'kernel_size_1': 7, 'pool_size_1': 2, 'filters_2': 84, 'kernel_size_2': 7, 'pool_size_2': 3}. \n"
          ]
        },
        {
          "output_type": "stream",
          "name": "stdout",
          "text": [
            "Score: 0.2842500075697899, Model size: 350846\n",
            "{'num_conv_layers': 1, 'learning_rate': 0.043424537396177666, 'filters_0': 36, 'kernel_size_0': 6, 'pool_size_0': 2}\n"
          ]
        },
        {
          "output_type": "stream",
          "name": "stderr",
          "text": [
            "[I 2023-06-07 15:39:45,180] Trial 9 finished with values: [0.9758333325386047, 71902.0] and parameters: {'num_conv_layers': 1, 'learning_rate': 0.043424537396177666, 'filters_0': 36, 'kernel_size_0': 6, 'pool_size_0': 2}. \n"
          ]
        },
        {
          "output_type": "stream",
          "name": "stdout",
          "text": [
            "Score: 0.9758333325386047, Model size: 71902\n",
            "Epoch 1/10\n",
            "59/59 [==============================] - 2s 17ms/step - loss: 0.4385 - accuracy: 0.8887\n",
            "Epoch 2/10\n",
            "59/59 [==============================] - 1s 13ms/step - loss: 0.0778 - accuracy: 0.9757\n",
            "Epoch 3/10\n",
            "59/59 [==============================] - 1s 13ms/step - loss: 0.0587 - accuracy: 0.9822\n",
            "Epoch 4/10\n",
            "59/59 [==============================] - 1s 14ms/step - loss: 0.0489 - accuracy: 0.9841\n",
            "Epoch 5/10\n",
            "59/59 [==============================] - 1s 13ms/step - loss: 0.0415 - accuracy: 0.9869\n",
            "Epoch 6/10\n",
            "59/59 [==============================] - 1s 14ms/step - loss: 0.0373 - accuracy: 0.9877\n",
            "Epoch 7/10\n",
            "59/59 [==============================] - 1s 14ms/step - loss: 0.0339 - accuracy: 0.9891\n",
            "Epoch 8/10\n",
            "59/59 [==============================] - 1s 12ms/step - loss: 0.0293 - accuracy: 0.9903\n",
            "Epoch 9/10\n",
            "59/59 [==============================] - 1s 13ms/step - loss: 0.0270 - accuracy: 0.9907\n",
            "Epoch 10/10\n",
            "59/59 [==============================] - 1s 13ms/step - loss: 0.0301 - accuracy: 0.9897\n",
            "Best model size: 71902\n"
          ]
        }
      ]
    },
    {
      "cell_type": "markdown",
      "source": [
        "### Saving the uncompressed model and checking the accuracy and size"
      ],
      "metadata": {
        "id": "Iozq8T54N9Ps"
      }
    },
    {
      "cell_type": "code",
      "source": [
        "# Define the path to the .tflite model\n",
        "path_to_tflite_model = 'mnist_model.tflite'\n",
        "\n",
        "# Save the returned keras model to the path\n",
        "save_keras_as_tflite_base(model, path_to_tflite_model)\n",
        "\n",
        "# Run inference on the tflite model \n",
        "y_pred_uncompressed = run_tflite_model(path_to_tflite_model, X_test)\n",
        "\n",
        "# Calculate the accuracy of the uncompressed model\n",
        "uncompressed_accuracy = np.mean(y_pred_uncompressed.argmax(1)==y_test)\n",
        "\n",
        "# Get the size of the model in megabytes\n",
        "uncompressed_model_size = get_tflite_model_size(path_to_tflite_model)\n"
      ],
      "metadata": {
        "colab": {
          "base_uri": "https://localhost:8080/"
        },
        "id": "uxaJN9BtNvhx",
        "outputId": "971d4840-5b39-4421-ddf8-06302f36bd79"
      },
      "execution_count": 8,
      "outputs": [
        {
          "output_type": "stream",
          "name": "stderr",
          "text": [
            "WARNING:absl:Found untraced functions such as _jit_compiled_convolution_op while saving (showing 1 of 1). These functions will not be directly callable after loading.\n",
            "100%|██████████| 10000/10000 [00:06<00:00, 1604.44it/s]\n"
          ]
        }
      ]
    },
    {
      "cell_type": "markdown",
      "source": [
        "### Compressing the model and calculating accuracy and size"
      ],
      "metadata": {
        "id": "LlNayvrYNt2P"
      }
    },
    {
      "cell_type": "code",
      "source": [
        "# Define path to the \n",
        "path_to_compressed_tflite_model = 'mnist_compressed_model.tflite'\n",
        "\n",
        "# Compressing the model\n",
        "prune_quantize_save_model(model, X_train, tf.keras.utils.to_categorical(y_train), path_to_compressed_tflite_model)\n",
        "\n",
        "# Run inference on the compressed tflite model \n",
        "y_pred_compressed = run_tflite_model(path_to_compressed_tflite_model, X_test)\n",
        "\n",
        "# Calculate the compressed model accuracy\n",
        "compressed_accuracy = np.mean(y_pred_compressed.argmax(1) == y_test)\n",
        "\n",
        "# Get the size of the compressed model\n",
        "compressed_model_size = get_tflite_model_size(path_to_compressed_tflite_model)"
      ],
      "metadata": {
        "colab": {
          "base_uri": "https://localhost:8080/"
        },
        "id": "l3yXQ_WNLtgz",
        "outputId": "720f0923-e5e4-463f-caa7-a4d4db29c7f7"
      },
      "execution_count": 9,
      "outputs": [
        {
          "output_type": "stream",
          "name": "stdout",
          "text": [
            "Epoch 1/3\n",
            " 4/53 [=>............................] - ETA: 0s - loss: 0.0162 - accuracy: 0.9941  "
          ]
        },
        {
          "output_type": "stream",
          "name": "stderr",
          "text": [
            "WARNING:tensorflow:Callback method `on_train_batch_end` is slow compared to the batch time (batch time: 0.0091s vs `on_train_batch_end` time: 0.0097s). Check your callbacks.\n"
          ]
        },
        {
          "output_type": "stream",
          "name": "stdout",
          "text": [
            "53/53 [==============================] - 7s 24ms/step - loss: 0.0187 - accuracy: 0.9940 - val_loss: 0.0184 - val_accuracy: 0.9933\n",
            "Epoch 2/3\n",
            "53/53 [==============================] - 1s 16ms/step - loss: 0.0249 - accuracy: 0.9920 - val_loss: 0.0597 - val_accuracy: 0.9797\n",
            "Epoch 3/3\n",
            "53/53 [==============================] - 1s 17ms/step - loss: 0.0657 - accuracy: 0.9763 - val_loss: 0.0574 - val_accuracy: 0.9802\n",
            "53/53 [==============================] - 2s 30ms/step - loss: 0.1766 - accuracy: 0.9203 - val_loss: 0.1384 - val_accuracy: 0.9353\n"
          ]
        },
        {
          "output_type": "stream",
          "name": "stderr",
          "text": [
            "WARNING:absl:Please consider providing the trackable_obj argument in the from_concrete_functions. Providing without the trackable_obj argument is deprecated and it will use the deprecated conversion path.\n",
            "/usr/local/lib/python3.10/dist-packages/tensorflow/lite/python/convert.py:789: UserWarning: Statistics for quantized inputs were expected, but not specified; continuing anyway.\n",
            "  warnings.warn(\"Statistics for quantized inputs were expected, but not \"\n",
            "100%|██████████| 10000/10000 [00:04<00:00, 2499.43it/s]\n"
          ]
        }
      ]
    },
    {
      "cell_type": "markdown",
      "source": [
        "### Printing metrics "
      ],
      "metadata": {
        "id": "tSE7U62JPeRb"
      }
    },
    {
      "cell_type": "code",
      "source": [
        "print(f'Uncompressed accuracy: {uncompressed_accuracy}, Uncompressed model size: {uncompressed_model_size:.4f} mb')\n",
        "print(f'Compressed accuracy: {compressed_accuracy}, Compressed model size: {compressed_model_size:.4f} mb')\n",
        "print(f'The compressed model is {uncompressed_model_size/compressed_model_size:.4f} times smaller with a reduction in accuracy of {uncompressed_accuracy - compressed_accuracy:.4f}%!')"
      ],
      "metadata": {
        "colab": {
          "base_uri": "https://localhost:8080/"
        },
        "id": "B165ix9GPehi",
        "outputId": "517ae899-bb2a-4a28-fc2f-7782d57b3866"
      },
      "execution_count": 10,
      "outputs": [
        {
          "output_type": "stream",
          "name": "stdout",
          "text": [
            "Uncompressed accuracy: 0.9799, Uncompressed model size: 0.2776 mb\n",
            "Compressed accuracy: 0.9272, Compressed model size: 0.0726 mb\n",
            "The compressed model is 3.8246 times smaller with a reduction in accuracy of 0.0527%!\n"
          ]
        }
      ]
    },
    {
      "cell_type": "code",
      "source": [],
      "metadata": {
        "id": "ziIwH6W4g9qX"
      },
      "execution_count": null,
      "outputs": []
    }
  ]
}
