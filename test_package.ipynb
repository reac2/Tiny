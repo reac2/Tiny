{
  "nbformat": 4,
  "nbformat_minor": 0,
  "metadata": {
    "colab": {
      "provenance": [],
      "gpuType": "T4"
    },
    "kernelspec": {
      "name": "python3",
      "display_name": "Python 3"
    },
    "language_info": {
      "name": "python"
    },
    "accelerator": "GPU"
  },
  "cells": [
    {
      "cell_type": "markdown",
      "source": [
        "# Testing the network builder and shrinker from the Tiny ML toolkit\n",
        "\n",
        "### Installing package - RUNTIME RESTART REQUIRED AFTER INSTALL\n",
        "I'll move the package to the tiny repository soon I just couldnt work out how to import it from there lol"
      ],
      "metadata": {
        "id": "sQwXoPaNMKvJ"
      }
    },
    {
      "cell_type": "code",
      "execution_count": 4,
      "metadata": {
        "colab": {
          "base_uri": "https://localhost:8080/",
          "height": 1000
        },
        "id": "s6Ld9KrVFArt",
        "outputId": "2d6b4541-b54e-4a3c-f619-05a873c9c6b7"
      },
      "outputs": [
        {
          "output_type": "stream",
          "name": "stdout",
          "text": [
            "Looking in indexes: https://pypi.org/simple, https://us-python.pkg.dev/colab-wheels/public/simple/\n",
            "Collecting git+https://github.com/reac2/Tiny\n",
            "  Cloning https://github.com/reac2/Tiny to /tmp/pip-req-build-c_u6_txw\n",
            "  Running command git clone --filter=blob:none --quiet https://github.com/reac2/Tiny /tmp/pip-req-build-c_u6_txw\n",
            "  Resolved https://github.com/reac2/Tiny to commit d1e77780c6b7dab65fc1b14dbe0e3490af5928b4\n",
            "  Preparing metadata (setup.py) ... \u001b[?25l\u001b[?25hdone\n",
            "Requirement already satisfied: scikit-learn in /usr/local/lib/python3.10/dist-packages (from tinymltoolkit==0.1) (1.2.2)\n",
            "Requirement already satisfied: numpy in /usr/local/lib/python3.10/dist-packages (from tinymltoolkit==0.1) (1.22.4)\n",
            "Requirement already satisfied: tensorflow in /usr/local/lib/python3.10/dist-packages (from tinymltoolkit==0.1) (2.12.0)\n",
            "Collecting optuna (from tinymltoolkit==0.1)\n",
            "  Downloading optuna-3.2.0-py3-none-any.whl (390 kB)\n",
            "\u001b[2K     \u001b[90m━━━━━━━━━━━━━━━━━━━━━━━━━━━━━━━━━━━━━━━\u001b[0m \u001b[32m390.6/390.6 kB\u001b[0m \u001b[31m9.0 MB/s\u001b[0m eta \u001b[36m0:00:00\u001b[0m\n",
            "\u001b[?25hCollecting tensorflow_model_optimization (from tinymltoolkit==0.1)\n",
            "  Downloading tensorflow_model_optimization-0.7.5-py2.py3-none-any.whl (241 kB)\n",
            "\u001b[2K     \u001b[90m━━━━━━━━━━━━━━━━━━━━━━━━━━━━━━━━━━━━━━\u001b[0m \u001b[32m241.2/241.2 kB\u001b[0m \u001b[31m23.4 MB/s\u001b[0m eta \u001b[36m0:00:00\u001b[0m\n",
            "\u001b[?25hRequirement already satisfied: tqdm in /usr/local/lib/python3.10/dist-packages (from tinymltoolkit==0.1) (4.65.0)\n",
            "Collecting alembic>=1.5.0 (from optuna->tinymltoolkit==0.1)\n",
            "  Downloading alembic-1.11.1-py3-none-any.whl (224 kB)\n",
            "\u001b[2K     \u001b[90m━━━━━━━━━━━━━━━━━━━━━━━━━━━━━━━━━━━━━━\u001b[0m \u001b[32m224.5/224.5 kB\u001b[0m \u001b[31m23.5 MB/s\u001b[0m eta \u001b[36m0:00:00\u001b[0m\n",
            "\u001b[?25hCollecting cmaes>=0.9.1 (from optuna->tinymltoolkit==0.1)\n",
            "  Downloading cmaes-0.9.1-py3-none-any.whl (21 kB)\n",
            "Collecting colorlog (from optuna->tinymltoolkit==0.1)\n",
            "  Downloading colorlog-6.7.0-py2.py3-none-any.whl (11 kB)\n",
            "Requirement already satisfied: packaging>=20.0 in /usr/local/lib/python3.10/dist-packages (from optuna->tinymltoolkit==0.1) (23.1)\n",
            "Requirement already satisfied: sqlalchemy>=1.3.0 in /usr/local/lib/python3.10/dist-packages (from optuna->tinymltoolkit==0.1) (2.0.10)\n",
            "Requirement already satisfied: PyYAML in /usr/local/lib/python3.10/dist-packages (from optuna->tinymltoolkit==0.1) (6.0)\n",
            "Requirement already satisfied: scipy>=1.3.2 in /usr/local/lib/python3.10/dist-packages (from scikit-learn->tinymltoolkit==0.1) (1.10.1)\n",
            "Requirement already satisfied: joblib>=1.1.1 in /usr/local/lib/python3.10/dist-packages (from scikit-learn->tinymltoolkit==0.1) (1.2.0)\n",
            "Requirement already satisfied: threadpoolctl>=2.0.0 in /usr/local/lib/python3.10/dist-packages (from scikit-learn->tinymltoolkit==0.1) (3.1.0)\n",
            "Requirement already satisfied: absl-py>=1.0.0 in /usr/local/lib/python3.10/dist-packages (from tensorflow->tinymltoolkit==0.1) (1.4.0)\n",
            "Requirement already satisfied: astunparse>=1.6.0 in /usr/local/lib/python3.10/dist-packages (from tensorflow->tinymltoolkit==0.1) (1.6.3)\n",
            "Requirement already satisfied: flatbuffers>=2.0 in /usr/local/lib/python3.10/dist-packages (from tensorflow->tinymltoolkit==0.1) (23.3.3)\n",
            "Requirement already satisfied: gast<=0.4.0,>=0.2.1 in /usr/local/lib/python3.10/dist-packages (from tensorflow->tinymltoolkit==0.1) (0.4.0)\n",
            "Requirement already satisfied: google-pasta>=0.1.1 in /usr/local/lib/python3.10/dist-packages (from tensorflow->tinymltoolkit==0.1) (0.2.0)\n",
            "Requirement already satisfied: grpcio<2.0,>=1.24.3 in /usr/local/lib/python3.10/dist-packages (from tensorflow->tinymltoolkit==0.1) (1.54.0)\n",
            "Requirement already satisfied: h5py>=2.9.0 in /usr/local/lib/python3.10/dist-packages (from tensorflow->tinymltoolkit==0.1) (3.8.0)\n",
            "Requirement already satisfied: jax>=0.3.15 in /usr/local/lib/python3.10/dist-packages (from tensorflow->tinymltoolkit==0.1) (0.4.10)\n",
            "Requirement already satisfied: keras<2.13,>=2.12.0 in /usr/local/lib/python3.10/dist-packages (from tensorflow->tinymltoolkit==0.1) (2.12.0)\n",
            "Requirement already satisfied: libclang>=13.0.0 in /usr/local/lib/python3.10/dist-packages (from tensorflow->tinymltoolkit==0.1) (16.0.0)\n",
            "Requirement already satisfied: opt-einsum>=2.3.2 in /usr/local/lib/python3.10/dist-packages (from tensorflow->tinymltoolkit==0.1) (3.3.0)\n",
            "Requirement already satisfied: protobuf!=4.21.0,!=4.21.1,!=4.21.2,!=4.21.3,!=4.21.4,!=4.21.5,<5.0.0dev,>=3.20.3 in /usr/local/lib/python3.10/dist-packages (from tensorflow->tinymltoolkit==0.1) (3.20.3)\n",
            "Requirement already satisfied: setuptools in /usr/local/lib/python3.10/dist-packages (from tensorflow->tinymltoolkit==0.1) (67.7.2)\n",
            "Requirement already satisfied: six>=1.12.0 in /usr/local/lib/python3.10/dist-packages (from tensorflow->tinymltoolkit==0.1) (1.16.0)\n",
            "Requirement already satisfied: tensorboard<2.13,>=2.12 in /usr/local/lib/python3.10/dist-packages (from tensorflow->tinymltoolkit==0.1) (2.12.2)\n",
            "Requirement already satisfied: tensorflow-estimator<2.13,>=2.12.0 in /usr/local/lib/python3.10/dist-packages (from tensorflow->tinymltoolkit==0.1) (2.12.0)\n",
            "Requirement already satisfied: termcolor>=1.1.0 in /usr/local/lib/python3.10/dist-packages (from tensorflow->tinymltoolkit==0.1) (2.3.0)\n",
            "Requirement already satisfied: typing-extensions>=3.6.6 in /usr/local/lib/python3.10/dist-packages (from tensorflow->tinymltoolkit==0.1) (4.5.0)\n",
            "Requirement already satisfied: wrapt<1.15,>=1.11.0 in /usr/local/lib/python3.10/dist-packages (from tensorflow->tinymltoolkit==0.1) (1.14.1)\n",
            "Requirement already satisfied: tensorflow-io-gcs-filesystem>=0.23.1 in /usr/local/lib/python3.10/dist-packages (from tensorflow->tinymltoolkit==0.1) (0.32.0)\n",
            "Requirement already satisfied: dm-tree~=0.1.1 in /usr/local/lib/python3.10/dist-packages (from tensorflow_model_optimization->tinymltoolkit==0.1) (0.1.8)\n",
            "Collecting numpy (from tinymltoolkit==0.1)\n",
            "  Downloading numpy-1.23.5-cp310-cp310-manylinux_2_17_x86_64.manylinux2014_x86_64.whl (17.1 MB)\n",
            "\u001b[2K     \u001b[90m━━━━━━━━━━━━━━━━━━━━━━━━━━━━━━━━━━━━━━━━\u001b[0m \u001b[32m17.1/17.1 MB\u001b[0m \u001b[31m72.2 MB/s\u001b[0m eta \u001b[36m0:00:00\u001b[0m\n",
            "\u001b[?25hCollecting Mako (from alembic>=1.5.0->optuna->tinymltoolkit==0.1)\n",
            "  Downloading Mako-1.2.4-py3-none-any.whl (78 kB)\n",
            "\u001b[2K     \u001b[90m━━━━━━━━━━━━━━━━━━━━━━━━━━━━━━━━━━━━━━━━\u001b[0m \u001b[32m78.7/78.7 kB\u001b[0m \u001b[31m11.1 MB/s\u001b[0m eta \u001b[36m0:00:00\u001b[0m\n",
            "\u001b[?25hRequirement already satisfied: wheel<1.0,>=0.23.0 in /usr/local/lib/python3.10/dist-packages (from astunparse>=1.6.0->tensorflow->tinymltoolkit==0.1) (0.40.0)\n",
            "Requirement already satisfied: ml-dtypes>=0.1.0 in /usr/local/lib/python3.10/dist-packages (from jax>=0.3.15->tensorflow->tinymltoolkit==0.1) (0.1.0)\n",
            "Requirement already satisfied: greenlet!=0.4.17 in /usr/local/lib/python3.10/dist-packages (from sqlalchemy>=1.3.0->optuna->tinymltoolkit==0.1) (2.0.2)\n",
            "Requirement already satisfied: google-auth<3,>=1.6.3 in /usr/local/lib/python3.10/dist-packages (from tensorboard<2.13,>=2.12->tensorflow->tinymltoolkit==0.1) (2.17.3)\n",
            "Requirement already satisfied: google-auth-oauthlib<1.1,>=0.5 in /usr/local/lib/python3.10/dist-packages (from tensorboard<2.13,>=2.12->tensorflow->tinymltoolkit==0.1) (1.0.0)\n",
            "Requirement already satisfied: markdown>=2.6.8 in /usr/local/lib/python3.10/dist-packages (from tensorboard<2.13,>=2.12->tensorflow->tinymltoolkit==0.1) (3.4.3)\n",
            "Requirement already satisfied: requests<3,>=2.21.0 in /usr/local/lib/python3.10/dist-packages (from tensorboard<2.13,>=2.12->tensorflow->tinymltoolkit==0.1) (2.27.1)\n",
            "Requirement already satisfied: tensorboard-data-server<0.8.0,>=0.7.0 in /usr/local/lib/python3.10/dist-packages (from tensorboard<2.13,>=2.12->tensorflow->tinymltoolkit==0.1) (0.7.0)\n",
            "Requirement already satisfied: tensorboard-plugin-wit>=1.6.0 in /usr/local/lib/python3.10/dist-packages (from tensorboard<2.13,>=2.12->tensorflow->tinymltoolkit==0.1) (1.8.1)\n",
            "Requirement already satisfied: werkzeug>=1.0.1 in /usr/local/lib/python3.10/dist-packages (from tensorboard<2.13,>=2.12->tensorflow->tinymltoolkit==0.1) (2.3.0)\n",
            "Requirement already satisfied: cachetools<6.0,>=2.0.0 in /usr/local/lib/python3.10/dist-packages (from google-auth<3,>=1.6.3->tensorboard<2.13,>=2.12->tensorflow->tinymltoolkit==0.1) (5.3.0)\n",
            "Requirement already satisfied: pyasn1-modules>=0.2.1 in /usr/local/lib/python3.10/dist-packages (from google-auth<3,>=1.6.3->tensorboard<2.13,>=2.12->tensorflow->tinymltoolkit==0.1) (0.3.0)\n",
            "Requirement already satisfied: rsa<5,>=3.1.4 in /usr/local/lib/python3.10/dist-packages (from google-auth<3,>=1.6.3->tensorboard<2.13,>=2.12->tensorflow->tinymltoolkit==0.1) (4.9)\n",
            "Requirement already satisfied: requests-oauthlib>=0.7.0 in /usr/local/lib/python3.10/dist-packages (from google-auth-oauthlib<1.1,>=0.5->tensorboard<2.13,>=2.12->tensorflow->tinymltoolkit==0.1) (1.3.1)\n",
            "Requirement already satisfied: urllib3<1.27,>=1.21.1 in /usr/local/lib/python3.10/dist-packages (from requests<3,>=2.21.0->tensorboard<2.13,>=2.12->tensorflow->tinymltoolkit==0.1) (1.26.15)\n",
            "Requirement already satisfied: certifi>=2017.4.17 in /usr/local/lib/python3.10/dist-packages (from requests<3,>=2.21.0->tensorboard<2.13,>=2.12->tensorflow->tinymltoolkit==0.1) (2022.12.7)\n",
            "Requirement already satisfied: charset-normalizer~=2.0.0 in /usr/local/lib/python3.10/dist-packages (from requests<3,>=2.21.0->tensorboard<2.13,>=2.12->tensorflow->tinymltoolkit==0.1) (2.0.12)\n",
            "Requirement already satisfied: idna<4,>=2.5 in /usr/local/lib/python3.10/dist-packages (from requests<3,>=2.21.0->tensorboard<2.13,>=2.12->tensorflow->tinymltoolkit==0.1) (3.4)\n",
            "Requirement already satisfied: MarkupSafe>=2.1.1 in /usr/local/lib/python3.10/dist-packages (from werkzeug>=1.0.1->tensorboard<2.13,>=2.12->tensorflow->tinymltoolkit==0.1) (2.1.2)\n",
            "Requirement already satisfied: pyasn1<0.6.0,>=0.4.6 in /usr/local/lib/python3.10/dist-packages (from pyasn1-modules>=0.2.1->google-auth<3,>=1.6.3->tensorboard<2.13,>=2.12->tensorflow->tinymltoolkit==0.1) (0.5.0)\n",
            "Requirement already satisfied: oauthlib>=3.0.0 in /usr/local/lib/python3.10/dist-packages (from requests-oauthlib>=0.7.0->google-auth-oauthlib<1.1,>=0.5->tensorboard<2.13,>=2.12->tensorflow->tinymltoolkit==0.1) (3.2.2)\n",
            "Building wheels for collected packages: tinymltoolkit\n",
            "  Building wheel for tinymltoolkit (setup.py) ... \u001b[?25l\u001b[?25hdone\n",
            "  Created wheel for tinymltoolkit: filename=tinymltoolkit-0.1-py3-none-any.whl size=5764 sha256=28a89b4bc5d64bfdac3e96289887015a8cd1981a8274046e46150fc4ea62e673\n",
            "  Stored in directory: /tmp/pip-ephem-wheel-cache-_8ukuty1/wheels/7a/6f/1b/5c5785c2ea15bb5c5d06cf201d0cb69789ec7f7833dbb7dcbd\n",
            "Successfully built tinymltoolkit\n",
            "Installing collected packages: numpy, Mako, colorlog, tensorflow_model_optimization, cmaes, alembic, optuna, tinymltoolkit\n",
            "  Attempting uninstall: numpy\n",
            "    Found existing installation: numpy 1.22.4\n",
            "    Uninstalling numpy-1.22.4:\n",
            "      Successfully uninstalled numpy-1.22.4\n",
            "Successfully installed Mako-1.2.4 alembic-1.11.1 cmaes-0.9.1 colorlog-6.7.0 numpy-1.23.5 optuna-3.2.0 tensorflow_model_optimization-0.7.5 tinymltoolkit-0.1\n"
          ]
        },
        {
          "output_type": "display_data",
          "data": {
            "application/vnd.colab-display-data+json": {
              "pip_warning": {
                "packages": [
                  "numpy"
                ]
              }
            }
          },
          "metadata": {}
        }
      ],
      "source": [
        "!pip install git+https://github.com/reac2/Tiny"
      ]
    },
    {
      "cell_type": "markdown",
      "source": [
        "### Importing functions from tinymltoolkit and importing other packages (REMEMBER TO RESTART RUNTIME)"
      ],
      "metadata": {
        "id": "EzxsesEPMdR4"
      }
    },
    {
      "cell_type": "code",
      "source": [
        "import numpy as np\n",
        "import tensorflow as tf\n",
        "from sklearn import datasets\n",
        "from sklearn.model_selection import train_test_split\n",
        "\n",
        "from tinymltoolkit.network_builder import CNNClassifier, GeneralNNRegressor, GeneralNNClassifier\n",
        "from tinymltoolkit.network_shrinker import save_keras_as_tflite_base, run_tflite_model, get_tflite_model_size,  prune_quantize_save_model"
      ],
      "metadata": {
        "id": "vUYxeB-lFBY6"
      },
      "execution_count": 1,
      "outputs": []
    },
    {
      "cell_type": "markdown",
      "source": [
        "### Loading and preprocessing MNIST dataset"
      ],
      "metadata": {
        "id": "6W9grXH5Nj9a"
      }
    },
    {
      "cell_type": "code",
      "source": [
        "(X_train, y_train), (X_test, y_test) = tf.keras.datasets.mnist.load_data()\n",
        "# Convert images from int to float between 0 and 1\n",
        "X_train = X_train / 255\n",
        "X_test = X_test / 255"
      ],
      "metadata": {
        "id": "BNmOirhHFN7W",
        "colab": {
          "base_uri": "https://localhost:8080/"
        },
        "outputId": "2aed8e54-107f-4af4-8614-a5e8772485c1"
      },
      "execution_count": 2,
      "outputs": [
        {
          "output_type": "stream",
          "name": "stdout",
          "text": [
            "Downloading data from https://storage.googleapis.com/tensorflow/tf-keras-datasets/mnist.npz\n",
            "11490434/11490434 [==============================] - 0s 0us/step\n"
          ]
        }
      ]
    },
    {
      "cell_type": "markdown",
      "source": [
        "### Initialising the model builder and getting the best trained model"
      ],
      "metadata": {
        "id": "Jo7iQsMOONKs"
      }
    },
    {
      "cell_type": "code",
      "source": [
        "# Instantiate CNNClassifier class\n",
        "model_builder = GeneralNNClassifier(X_train, y_train, n_trials=10)\n",
        "\n",
        "# Run find the best model architecture and hyperparameters, and train the best model\n",
        "model = model_builder.get_best_trained_model()"
      ],
      "metadata": {
        "colab": {
          "base_uri": "https://localhost:8080/"
        },
        "id": "ghnDD4ECN8il",
        "outputId": "e7631441-3e30-44ea-8b96-4a1d1a51a130"
      },
      "execution_count": 3,
      "outputs": [
        {
          "output_type": "stream",
          "name": "stderr",
          "text": [
            "[I 2023-06-09 11:22:05,047] A new study created in memory with name: no-name-528033b4-c009-497b-be69-b1b1990ea299\n"
          ]
        },
        {
          "output_type": "stream",
          "name": "stdout",
          "text": [
            "{'num_layers': 3, 'learning_rate': 0.09665281391786643, 'node_0': 130, 'node_1': 163, 'node_2': 413}\n"
          ]
        },
        {
          "output_type": "stream",
          "name": "stderr",
          "text": [
            "[I 2023-06-09 11:23:13,132] Trial 0 finished with values: [0.15560000240802765, 195275.0] and parameters: {'num_layers': 3, 'learning_rate': 0.09665281391786643, 'node_0': 130, 'node_1': 163, 'node_2': 413}. \n"
          ]
        },
        {
          "output_type": "stream",
          "name": "stdout",
          "text": [
            "Score: 0.15560000240802765, Model size: 195275\n",
            "{'num_layers': 6, 'learning_rate': 0.07532201835781357, 'node_0': 183, 'node_1': 366, 'node_2': 13, 'node_3': 465, 'node_4': 221, 'node_5': 23}\n"
          ]
        },
        {
          "output_type": "stream",
          "name": "stderr",
          "text": [
            "[I 2023-06-09 11:24:13,243] Trial 1 finished with values: [0.10661666691303254, 330612.0] and parameters: {'num_layers': 6, 'learning_rate': 0.07532201835781357, 'node_0': 183, 'node_1': 366, 'node_2': 13, 'node_3': 465, 'node_4': 221, 'node_5': 23}. \n"
          ]
        },
        {
          "output_type": "stream",
          "name": "stdout",
          "text": [
            "Score: 0.10661666691303254, Model size: 330612\n",
            "{'num_layers': 4, 'learning_rate': 0.03229504826319557, 'node_0': 276, 'node_1': 180, 'node_2': 271, 'node_3': 323}\n"
          ]
        },
        {
          "output_type": "stream",
          "name": "stderr",
          "text": [
            "[I 2023-06-09 11:25:11,858] Trial 2 finished with values: [0.8360166788101197, 406667.0] and parameters: {'num_layers': 4, 'learning_rate': 0.03229504826319557, 'node_0': 276, 'node_1': 180, 'node_2': 271, 'node_3': 323}. \n"
          ]
        },
        {
          "output_type": "stream",
          "name": "stdout",
          "text": [
            "Score: 0.8360166788101197, Model size: 406667\n",
            "{'num_layers': 2, 'learning_rate': 0.0743705330428673, 'node_0': 325, 'node_1': 291}\n"
          ]
        },
        {
          "output_type": "stream",
          "name": "stderr",
          "text": [
            "[I 2023-06-09 11:26:06,184] Trial 3 finished with values: [0.4170833319425583, 352911.0] and parameters: {'num_layers': 2, 'learning_rate': 0.0743705330428673, 'node_0': 325, 'node_1': 291}. \n"
          ]
        },
        {
          "output_type": "stream",
          "name": "stdout",
          "text": [
            "Score: 0.4170833319425583, Model size: 352911\n",
            "{'num_layers': 3, 'learning_rate': 0.08871911976259579, 'node_0': 467, 'node_1': 263, 'node_2': 171}\n"
          ]
        },
        {
          "output_type": "stream",
          "name": "stderr",
          "text": [
            "[I 2023-06-09 11:27:01,603] Trial 4 finished with values: [0.28893333673477173, 536543.0] and parameters: {'num_layers': 3, 'learning_rate': 0.08871911976259579, 'node_0': 467, 'node_1': 263, 'node_2': 171}. \n"
          ]
        },
        {
          "output_type": "stream",
          "name": "stdout",
          "text": [
            "Score: 0.28893333673477173, Model size: 536543\n",
            "{'num_layers': 3, 'learning_rate': 0.06879760585895069, 'node_0': 73, 'node_1': 429, 'node_2': 84}\n"
          ]
        },
        {
          "output_type": "stream",
          "name": "stderr",
          "text": [
            "[I 2023-06-09 11:27:59,788] Trial 5 finished with values: [0.1424333319067955, 126021.0] and parameters: {'num_layers': 3, 'learning_rate': 0.06879760585895069, 'node_0': 73, 'node_1': 429, 'node_2': 84}. \n"
          ]
        },
        {
          "output_type": "stream",
          "name": "stdout",
          "text": [
            "Score: 0.1424333319067955, Model size: 126021\n",
            "{'num_layers': 3, 'learning_rate': 0.04802517495159733, 'node_0': 127, 'node_1': 98, 'node_2': 65}\n"
          ]
        },
        {
          "output_type": "stream",
          "name": "stderr",
          "text": [
            "[I 2023-06-09 11:28:55,159] Trial 6 finished with values: [0.8563833355903625, 119334.0] and parameters: {'num_layers': 3, 'learning_rate': 0.04802517495159733, 'node_0': 127, 'node_1': 98, 'node_2': 65}. \n"
          ]
        },
        {
          "output_type": "stream",
          "name": "stdout",
          "text": [
            "Score: 0.8563833355903625, Model size: 119334\n",
            "{'num_layers': 5, 'learning_rate': 0.07626247265330605, 'node_0': 66, 'node_1': 83, 'node_2': 254, 'node_3': 74, 'node_4': 207}\n"
          ]
        },
        {
          "output_type": "stream",
          "name": "stderr",
          "text": [
            "[I 2023-06-09 11:29:50,105] Trial 7 finished with values: [0.18981667011976242, 115182.0] and parameters: {'num_layers': 5, 'learning_rate': 0.07626247265330605, 'node_0': 66, 'node_1': 83, 'node_2': 254, 'node_3': 74, 'node_4': 207}. \n"
          ]
        },
        {
          "output_type": "stream",
          "name": "stdout",
          "text": [
            "Score: 0.18981667011976242, Model size: 115182\n",
            "{'num_layers': 2, 'learning_rate': 0.03744914311099279, 'node_0': 505, 'node_1': 340}\n"
          ]
        },
        {
          "output_type": "stream",
          "name": "stderr",
          "text": [
            "[I 2023-06-09 11:30:47,935] Trial 8 finished with values: [0.9021499991416931, 571875.0] and parameters: {'num_layers': 2, 'learning_rate': 0.03744914311099279, 'node_0': 505, 'node_1': 340}. \n"
          ]
        },
        {
          "output_type": "stream",
          "name": "stdout",
          "text": [
            "Score: 0.9021499991416931, Model size: 571875\n",
            "{'num_layers': 5, 'learning_rate': 0.012921578392882112, 'node_0': 115, 'node_1': 152, 'node_2': 188, 'node_3': 118, 'node_4': 159}\n"
          ]
        },
        {
          "output_type": "stream",
          "name": "stderr",
          "text": [
            "[I 2023-06-09 11:31:45,863] Trial 9 finished with values: [0.9408833265304566, 179494.0] and parameters: {'num_layers': 5, 'learning_rate': 0.012921578392882112, 'node_0': 115, 'node_1': 152, 'node_2': 188, 'node_3': 118, 'node_4': 159}. \n"
          ]
        },
        {
          "output_type": "stream",
          "name": "stdout",
          "text": [
            "Score: 0.9408833265304566, Model size: 179494\n",
            "Epoch 1/10\n",
            "938/938 [==============================] - 4s 4ms/step - loss: 0.3870 - accuracy: 0.8989\n",
            "Epoch 2/10\n",
            "938/938 [==============================] - 3s 3ms/step - loss: 0.2686 - accuracy: 0.9380\n",
            "Epoch 3/10\n",
            "938/938 [==============================] - 3s 3ms/step - loss: 0.2232 - accuracy: 0.9480\n",
            "Epoch 4/10\n",
            "938/938 [==============================] - 3s 3ms/step - loss: 0.2630 - accuracy: 0.9412\n",
            "Epoch 5/10\n",
            "938/938 [==============================] - 4s 4ms/step - loss: 0.3112 - accuracy: 0.9325\n",
            "Epoch 6/10\n",
            "938/938 [==============================] - 3s 3ms/step - loss: 0.2470 - accuracy: 0.9437\n",
            "Epoch 7/10\n",
            "938/938 [==============================] - 3s 3ms/step - loss: 0.2055 - accuracy: 0.9503\n",
            "Epoch 8/10\n",
            "938/938 [==============================] - 3s 3ms/step - loss: 0.2035 - accuracy: 0.9533\n",
            "Epoch 9/10\n",
            "938/938 [==============================] - 4s 4ms/step - loss: 0.2386 - accuracy: 0.9460\n",
            "Epoch 10/10\n",
            "938/938 [==============================] - 3s 3ms/step - loss: 0.2362 - accuracy: 0.9438\n",
            "Best model size: 179494\n"
          ]
        }
      ]
    },
    {
      "cell_type": "markdown",
      "source": [
        "### Saving the uncompressed model and checking the accuracy and size"
      ],
      "metadata": {
        "id": "Iozq8T54N9Ps"
      }
    },
    {
      "cell_type": "code",
      "source": [
        "# Define the path to the .tflite model\n",
        "path_to_tflite_model = 'mnist_model.tflite'\n",
        "\n",
        "# Save the returned keras model to the path\n",
        "save_keras_as_tflite_base(model, path_to_tflite_model)\n",
        "\n",
        "# Run inference on the tflite model \n",
        "y_pred_uncompressed = run_tflite_model(path_to_tflite_model, X_test)\n",
        "\n",
        "# Calculate the accuracy of the uncompressed model\n",
        "uncompressed_accuracy = np.mean(y_pred_uncompressed.argmax(1)==y_test)\n",
        "\n",
        "# Get the size of the model in megabytes\n",
        "uncompressed_model_size = get_tflite_model_size(path_to_tflite_model)\n"
      ],
      "metadata": {
        "colab": {
          "base_uri": "https://localhost:8080/"
        },
        "id": "uxaJN9BtNvhx",
        "outputId": "f30cfe7f-0c9e-4406-ce48-555e66bb7014"
      },
      "execution_count": 6,
      "outputs": [
        {
          "output_type": "stream",
          "name": "stderr",
          "text": [
            "100%|██████████| 10000/10000 [00:00<00:00, 20209.06it/s]\n"
          ]
        }
      ]
    },
    {
      "cell_type": "markdown",
      "source": [
        "### Compressing the model and calculating accuracy and size"
      ],
      "metadata": {
        "id": "LlNayvrYNt2P"
      }
    },
    {
      "cell_type": "code",
      "source": [
        "# Define path to the \n",
        "path_to_compressed_tflite_model = 'mnist_compressed_model.tflite'\n",
        "\n",
        "# Compressing the model\n",
        "prune_quantize_save_model(model, X_train, tf.keras.utils.to_categorical(y_train), path_to_compressed_tflite_model)\n",
        "\n",
        "# Run inference on the compressed tflite model \n",
        "y_pred_compressed = run_tflite_model(path_to_compressed_tflite_model, X_test)\n",
        "\n",
        "# Calculate the compressed model accuracy\n",
        "compressed_accuracy = np.mean(y_pred_compressed.argmax(1) == y_test)\n",
        "\n",
        "# Get the size of the compressed model\n",
        "compressed_model_size = get_tflite_model_size(path_to_compressed_tflite_model)"
      ],
      "metadata": {
        "colab": {
          "base_uri": "https://localhost:8080/"
        },
        "id": "l3yXQ_WNLtgz",
        "outputId": "14792b38-d956-40a3-c9bc-0e6858546bba"
      },
      "execution_count": 7,
      "outputs": [
        {
          "output_type": "stream",
          "name": "stdout",
          "text": [
            "Epoch 1/3\n",
            "53/53 [==============================] - 9s 28ms/step - loss: 0.0534 - accuracy: 0.9856 - val_loss: 0.0393 - val_accuracy: 0.9888\n",
            "Epoch 2/3\n",
            "53/53 [==============================] - 1s 15ms/step - loss: 0.0548 - accuracy: 0.9853 - val_loss: 0.0497 - val_accuracy: 0.9870\n",
            "Epoch 3/3\n",
            "53/53 [==============================] - 1s 13ms/step - loss: 0.0678 - accuracy: 0.9827 - val_loss: 0.0488 - val_accuracy: 0.9875\n",
            "53/53 [==============================] - 2s 16ms/step - loss: 0.3523 - accuracy: 0.9408 - val_loss: 0.2607 - val_accuracy: 0.9520\n"
          ]
        },
        {
          "output_type": "stream",
          "name": "stderr",
          "text": [
            "WARNING:absl:Please consider providing the trackable_obj argument in the from_concrete_functions. Providing without the trackable_obj argument is deprecated and it will use the deprecated conversion path.\n",
            "/usr/local/lib/python3.10/dist-packages/tensorflow/lite/python/convert.py:789: UserWarning: Statistics for quantized inputs were expected, but not specified; continuing anyway.\n",
            "  warnings.warn(\"Statistics for quantized inputs were expected, but not \"\n",
            "100%|██████████| 10000/10000 [00:00<00:00, 48764.06it/s]\n"
          ]
        }
      ]
    },
    {
      "cell_type": "markdown",
      "source": [
        "### Printing metrics "
      ],
      "metadata": {
        "id": "tSE7U62JPeRb"
      }
    },
    {
      "cell_type": "code",
      "source": [
        "print(f'Uncompressed accuracy: {uncompressed_accuracy}, Uncompressed model size: {uncompressed_model_size:.4f} mb')\n",
        "print(f'Compressed accuracy: {compressed_accuracy}, Compressed model size: {compressed_model_size:.4f} mb')\n",
        "print(f'The compressed model is {uncompressed_model_size/compressed_model_size:.4f} times smaller with a reduction in accuracy of {uncompressed_accuracy - compressed_accuracy:.4f}%!')"
      ],
      "metadata": {
        "colab": {
          "base_uri": "https://localhost:8080/"
        },
        "id": "B165ix9GPehi",
        "outputId": "caa0128b-dfba-49b6-a58e-ea756523c2b5"
      },
      "execution_count": 8,
      "outputs": [
        {
          "output_type": "stream",
          "name": "stdout",
          "text": [
            "Uncompressed accuracy: 0.9704, Uncompressed model size: 0.7727 mb\n",
            "Compressed accuracy: 0.9324, Compressed model size: 0.1964 mb\n",
            "The compressed model is 3.9336 times smaller with a reduction in accuracy of 0.0380%!\n"
          ]
        }
      ]
    },
    {
      "cell_type": "code",
      "source": [],
      "metadata": {
        "id": "ziIwH6W4g9qX"
      },
      "execution_count": null,
      "outputs": []
    }
  ]
}
