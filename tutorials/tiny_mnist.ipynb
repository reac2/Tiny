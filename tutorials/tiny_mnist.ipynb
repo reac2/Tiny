{
  "cells": [
    {
      "cell_type": "code",
      "source": [
        "!pip install git+https://github.com/reac2/Tiny"
      ],
      "metadata": {
        "colab": {
          "base_uri": "https://localhost:8080/",
          "height": 1000
        },
        "id": "9PYVVxc40od8",
        "outputId": "9a13ab2f-81d9-4c6a-976a-7cef6e7721a8"
      },
      "id": "9PYVVxc40od8",
      "execution_count": 2,
      "outputs": [
        {
          "output_type": "stream",
          "name": "stdout",
          "text": [
            "Collecting git+https://github.com/reac2/Tiny\n",
            "  Cloning https://github.com/reac2/Tiny to /tmp/pip-req-build-ep9gdpwf\n",
            "  Running command git clone --filter=blob:none --quiet https://github.com/reac2/Tiny /tmp/pip-req-build-ep9gdpwf\n",
            "  Resolved https://github.com/reac2/Tiny to commit 0dee361c127f4664cb432da09230c4dc7a63e8fb\n",
            "  Preparing metadata (setup.py) ... \u001b[?25l\u001b[?25hdone\n",
            "Requirement already satisfied: scikit-learn in /usr/local/lib/python3.10/dist-packages (from tinymltoolkit==0.1) (1.2.2)\n",
            "Requirement already satisfied: numpy in /usr/local/lib/python3.10/dist-packages (from tinymltoolkit==0.1) (1.22.4)\n",
            "Requirement already satisfied: tensorflow in /usr/local/lib/python3.10/dist-packages (from tinymltoolkit==0.1) (2.12.0)\n",
            "Collecting optuna (from tinymltoolkit==0.1)\n",
            "  Downloading optuna-3.2.0-py3-none-any.whl (390 kB)\n",
            "\u001b[2K     \u001b[90m━━━━━━━━━━━━━━━━━━━━━━━━━━━━━━━━━━━━━━━\u001b[0m \u001b[32m390.6/390.6 kB\u001b[0m \u001b[31m9.0 MB/s\u001b[0m eta \u001b[36m0:00:00\u001b[0m\n",
            "\u001b[?25hCollecting tensorflow_model_optimization (from tinymltoolkit==0.1)\n",
            "  Downloading tensorflow_model_optimization-0.7.5-py2.py3-none-any.whl (241 kB)\n",
            "\u001b[2K     \u001b[90m━━━━━━━━━━━━━━━━━━━━━━━━━━━━━━━━━━━━━━\u001b[0m \u001b[32m241.2/241.2 kB\u001b[0m \u001b[31m30.7 MB/s\u001b[0m eta \u001b[36m0:00:00\u001b[0m\n",
            "\u001b[?25hRequirement already satisfied: tqdm in /usr/local/lib/python3.10/dist-packages (from tinymltoolkit==0.1) (4.65.0)\n",
            "Collecting alembic>=1.5.0 (from optuna->tinymltoolkit==0.1)\n",
            "  Downloading alembic-1.11.1-py3-none-any.whl (224 kB)\n",
            "\u001b[2K     \u001b[90m━━━━━━━━━━━━━━━━━━━━━━━━━━━━━━━━━━━━━━\u001b[0m \u001b[32m224.5/224.5 kB\u001b[0m \u001b[31m27.9 MB/s\u001b[0m eta \u001b[36m0:00:00\u001b[0m\n",
            "\u001b[?25hCollecting cmaes>=0.9.1 (from optuna->tinymltoolkit==0.1)\n",
            "  Downloading cmaes-0.9.1-py3-none-any.whl (21 kB)\n",
            "Collecting colorlog (from optuna->tinymltoolkit==0.1)\n",
            "  Downloading colorlog-6.7.0-py2.py3-none-any.whl (11 kB)\n",
            "Requirement already satisfied: packaging>=20.0 in /usr/local/lib/python3.10/dist-packages (from optuna->tinymltoolkit==0.1) (23.1)\n",
            "Requirement already satisfied: sqlalchemy>=1.3.0 in /usr/local/lib/python3.10/dist-packages (from optuna->tinymltoolkit==0.1) (2.0.16)\n",
            "Requirement already satisfied: PyYAML in /usr/local/lib/python3.10/dist-packages (from optuna->tinymltoolkit==0.1) (6.0)\n",
            "Requirement already satisfied: scipy>=1.3.2 in /usr/local/lib/python3.10/dist-packages (from scikit-learn->tinymltoolkit==0.1) (1.10.1)\n",
            "Requirement already satisfied: joblib>=1.1.1 in /usr/local/lib/python3.10/dist-packages (from scikit-learn->tinymltoolkit==0.1) (1.2.0)\n",
            "Requirement already satisfied: threadpoolctl>=2.0.0 in /usr/local/lib/python3.10/dist-packages (from scikit-learn->tinymltoolkit==0.1) (3.1.0)\n",
            "Requirement already satisfied: absl-py>=1.0.0 in /usr/local/lib/python3.10/dist-packages (from tensorflow->tinymltoolkit==0.1) (1.4.0)\n",
            "Requirement already satisfied: astunparse>=1.6.0 in /usr/local/lib/python3.10/dist-packages (from tensorflow->tinymltoolkit==0.1) (1.6.3)\n",
            "Requirement already satisfied: flatbuffers>=2.0 in /usr/local/lib/python3.10/dist-packages (from tensorflow->tinymltoolkit==0.1) (23.5.26)\n",
            "Requirement already satisfied: gast<=0.4.0,>=0.2.1 in /usr/local/lib/python3.10/dist-packages (from tensorflow->tinymltoolkit==0.1) (0.4.0)\n",
            "Requirement already satisfied: google-pasta>=0.1.1 in /usr/local/lib/python3.10/dist-packages (from tensorflow->tinymltoolkit==0.1) (0.2.0)\n",
            "Requirement already satisfied: grpcio<2.0,>=1.24.3 in /usr/local/lib/python3.10/dist-packages (from tensorflow->tinymltoolkit==0.1) (1.56.0)\n",
            "Requirement already satisfied: h5py>=2.9.0 in /usr/local/lib/python3.10/dist-packages (from tensorflow->tinymltoolkit==0.1) (3.8.0)\n",
            "Requirement already satisfied: jax>=0.3.15 in /usr/local/lib/python3.10/dist-packages (from tensorflow->tinymltoolkit==0.1) (0.4.10)\n",
            "Requirement already satisfied: keras<2.13,>=2.12.0 in /usr/local/lib/python3.10/dist-packages (from tensorflow->tinymltoolkit==0.1) (2.12.0)\n",
            "Requirement already satisfied: libclang>=13.0.0 in /usr/local/lib/python3.10/dist-packages (from tensorflow->tinymltoolkit==0.1) (16.0.0)\n",
            "Requirement already satisfied: opt-einsum>=2.3.2 in /usr/local/lib/python3.10/dist-packages (from tensorflow->tinymltoolkit==0.1) (3.3.0)\n",
            "Requirement already satisfied: protobuf!=4.21.0,!=4.21.1,!=4.21.2,!=4.21.3,!=4.21.4,!=4.21.5,<5.0.0dev,>=3.20.3 in /usr/local/lib/python3.10/dist-packages (from tensorflow->tinymltoolkit==0.1) (3.20.3)\n",
            "Requirement already satisfied: setuptools in /usr/local/lib/python3.10/dist-packages (from tensorflow->tinymltoolkit==0.1) (67.7.2)\n",
            "Requirement already satisfied: six>=1.12.0 in /usr/local/lib/python3.10/dist-packages (from tensorflow->tinymltoolkit==0.1) (1.16.0)\n",
            "Requirement already satisfied: tensorboard<2.13,>=2.12 in /usr/local/lib/python3.10/dist-packages (from tensorflow->tinymltoolkit==0.1) (2.12.3)\n",
            "Requirement already satisfied: tensorflow-estimator<2.13,>=2.12.0 in /usr/local/lib/python3.10/dist-packages (from tensorflow->tinymltoolkit==0.1) (2.12.0)\n",
            "Requirement already satisfied: termcolor>=1.1.0 in /usr/local/lib/python3.10/dist-packages (from tensorflow->tinymltoolkit==0.1) (2.3.0)\n",
            "Requirement already satisfied: typing-extensions>=3.6.6 in /usr/local/lib/python3.10/dist-packages (from tensorflow->tinymltoolkit==0.1) (4.6.3)\n",
            "Requirement already satisfied: wrapt<1.15,>=1.11.0 in /usr/local/lib/python3.10/dist-packages (from tensorflow->tinymltoolkit==0.1) (1.14.1)\n",
            "Requirement already satisfied: tensorflow-io-gcs-filesystem>=0.23.1 in /usr/local/lib/python3.10/dist-packages (from tensorflow->tinymltoolkit==0.1) (0.32.0)\n",
            "Requirement already satisfied: dm-tree~=0.1.1 in /usr/local/lib/python3.10/dist-packages (from tensorflow_model_optimization->tinymltoolkit==0.1) (0.1.8)\n",
            "Collecting numpy (from tinymltoolkit==0.1)\n",
            "  Downloading numpy-1.23.5-cp310-cp310-manylinux_2_17_x86_64.manylinux2014_x86_64.whl (17.1 MB)\n",
            "\u001b[2K     \u001b[90m━━━━━━━━━━━━━━━━━━━━━━━━━━━━━━━━━━━━━━━\u001b[0m \u001b[32m17.1/17.1 MB\u001b[0m \u001b[31m110.1 MB/s\u001b[0m eta \u001b[36m0:00:00\u001b[0m\n",
            "\u001b[?25hCollecting Mako (from alembic>=1.5.0->optuna->tinymltoolkit==0.1)\n",
            "  Downloading Mako-1.2.4-py3-none-any.whl (78 kB)\n",
            "\u001b[2K     \u001b[90m━━━━━━━━━━━━━━━━━━━━━━━━━━━━━━━━━━━━━━━━\u001b[0m \u001b[32m78.7/78.7 kB\u001b[0m \u001b[31m10.8 MB/s\u001b[0m eta \u001b[36m0:00:00\u001b[0m\n",
            "\u001b[?25hRequirement already satisfied: wheel<1.0,>=0.23.0 in /usr/local/lib/python3.10/dist-packages (from astunparse>=1.6.0->tensorflow->tinymltoolkit==0.1) (0.40.0)\n",
            "Requirement already satisfied: ml-dtypes>=0.1.0 in /usr/local/lib/python3.10/dist-packages (from jax>=0.3.15->tensorflow->tinymltoolkit==0.1) (0.2.0)\n",
            "Requirement already satisfied: greenlet!=0.4.17 in /usr/local/lib/python3.10/dist-packages (from sqlalchemy>=1.3.0->optuna->tinymltoolkit==0.1) (2.0.2)\n",
            "Requirement already satisfied: google-auth<3,>=1.6.3 in /usr/local/lib/python3.10/dist-packages (from tensorboard<2.13,>=2.12->tensorflow->tinymltoolkit==0.1) (2.17.3)\n",
            "Requirement already satisfied: google-auth-oauthlib<1.1,>=0.5 in /usr/local/lib/python3.10/dist-packages (from tensorboard<2.13,>=2.12->tensorflow->tinymltoolkit==0.1) (1.0.0)\n",
            "Requirement already satisfied: markdown>=2.6.8 in /usr/local/lib/python3.10/dist-packages (from tensorboard<2.13,>=2.12->tensorflow->tinymltoolkit==0.1) (3.4.3)\n",
            "Requirement already satisfied: requests<3,>=2.21.0 in /usr/local/lib/python3.10/dist-packages (from tensorboard<2.13,>=2.12->tensorflow->tinymltoolkit==0.1) (2.27.1)\n",
            "Requirement already satisfied: tensorboard-data-server<0.8.0,>=0.7.0 in /usr/local/lib/python3.10/dist-packages (from tensorboard<2.13,>=2.12->tensorflow->tinymltoolkit==0.1) (0.7.1)\n",
            "Requirement already satisfied: werkzeug>=1.0.1 in /usr/local/lib/python3.10/dist-packages (from tensorboard<2.13,>=2.12->tensorflow->tinymltoolkit==0.1) (2.3.6)\n",
            "Requirement already satisfied: cachetools<6.0,>=2.0.0 in /usr/local/lib/python3.10/dist-packages (from google-auth<3,>=1.6.3->tensorboard<2.13,>=2.12->tensorflow->tinymltoolkit==0.1) (5.3.1)\n",
            "Requirement already satisfied: pyasn1-modules>=0.2.1 in /usr/local/lib/python3.10/dist-packages (from google-auth<3,>=1.6.3->tensorboard<2.13,>=2.12->tensorflow->tinymltoolkit==0.1) (0.3.0)\n",
            "Requirement already satisfied: rsa<5,>=3.1.4 in /usr/local/lib/python3.10/dist-packages (from google-auth<3,>=1.6.3->tensorboard<2.13,>=2.12->tensorflow->tinymltoolkit==0.1) (4.9)\n",
            "Requirement already satisfied: requests-oauthlib>=0.7.0 in /usr/local/lib/python3.10/dist-packages (from google-auth-oauthlib<1.1,>=0.5->tensorboard<2.13,>=2.12->tensorflow->tinymltoolkit==0.1) (1.3.1)\n",
            "Requirement already satisfied: urllib3<1.27,>=1.21.1 in /usr/local/lib/python3.10/dist-packages (from requests<3,>=2.21.0->tensorboard<2.13,>=2.12->tensorflow->tinymltoolkit==0.1) (1.26.16)\n",
            "Requirement already satisfied: certifi>=2017.4.17 in /usr/local/lib/python3.10/dist-packages (from requests<3,>=2.21.0->tensorboard<2.13,>=2.12->tensorflow->tinymltoolkit==0.1) (2023.5.7)\n",
            "Requirement already satisfied: charset-normalizer~=2.0.0 in /usr/local/lib/python3.10/dist-packages (from requests<3,>=2.21.0->tensorboard<2.13,>=2.12->tensorflow->tinymltoolkit==0.1) (2.0.12)\n",
            "Requirement already satisfied: idna<4,>=2.5 in /usr/local/lib/python3.10/dist-packages (from requests<3,>=2.21.0->tensorboard<2.13,>=2.12->tensorflow->tinymltoolkit==0.1) (3.4)\n",
            "Requirement already satisfied: MarkupSafe>=2.1.1 in /usr/local/lib/python3.10/dist-packages (from werkzeug>=1.0.1->tensorboard<2.13,>=2.12->tensorflow->tinymltoolkit==0.1) (2.1.3)\n",
            "Requirement already satisfied: pyasn1<0.6.0,>=0.4.6 in /usr/local/lib/python3.10/dist-packages (from pyasn1-modules>=0.2.1->google-auth<3,>=1.6.3->tensorboard<2.13,>=2.12->tensorflow->tinymltoolkit==0.1) (0.5.0)\n",
            "Requirement already satisfied: oauthlib>=3.0.0 in /usr/local/lib/python3.10/dist-packages (from requests-oauthlib>=0.7.0->google-auth-oauthlib<1.1,>=0.5->tensorboard<2.13,>=2.12->tensorflow->tinymltoolkit==0.1) (3.2.2)\n",
            "Building wheels for collected packages: tinymltoolkit\n",
            "  Building wheel for tinymltoolkit (setup.py) ... \u001b[?25l\u001b[?25hdone\n",
            "  Created wheel for tinymltoolkit: filename=tinymltoolkit-0.1-py3-none-any.whl size=7235 sha256=0fba6d4ebec332db5886956e1a58059177ad10e08ec21241f9b32082b457ce8b\n",
            "  Stored in directory: /tmp/pip-ephem-wheel-cache-4fz82ze7/wheels/7a/6f/1b/5c5785c2ea15bb5c5d06cf201d0cb69789ec7f7833dbb7dcbd\n",
            "Successfully built tinymltoolkit\n",
            "Installing collected packages: numpy, Mako, colorlog, tensorflow_model_optimization, cmaes, alembic, optuna, tinymltoolkit\n",
            "  Attempting uninstall: numpy\n",
            "    Found existing installation: numpy 1.22.4\n",
            "    Uninstalling numpy-1.22.4:\n",
            "      Successfully uninstalled numpy-1.22.4\n",
            "Successfully installed Mako-1.2.4 alembic-1.11.1 cmaes-0.9.1 colorlog-6.7.0 numpy-1.23.5 optuna-3.2.0 tensorflow_model_optimization-0.7.5 tinymltoolkit-0.1\n"
          ]
        },
        {
          "output_type": "display_data",
          "data": {
            "application/vnd.colab-display-data+json": {
              "pip_warning": {
                "packages": [
                  "numpy"
                ]
              }
            }
          },
          "metadata": {}
        }
      ]
    },
    {
      "cell_type": "markdown",
      "id": "33071bab",
      "metadata": {
        "id": "33071bab"
      },
      "source": [
        "### Imports"
      ]
    },
    {
      "cell_type": "code",
      "execution_count": 1,
      "id": "3b13594d",
      "metadata": {
        "id": "3b13594d"
      },
      "outputs": [],
      "source": [
        "import tensorflow as tf\n",
        "import numpy as np\n",
        "import matplotlib.pyplot as plt\n",
        "from tensorflow.keras import layers"
      ]
    },
    {
      "cell_type": "markdown",
      "id": "6db7dbc0",
      "metadata": {
        "id": "6db7dbc0"
      },
      "source": [
        "### Getting data"
      ]
    },
    {
      "cell_type": "code",
      "execution_count": 2,
      "id": "0fe4be2c",
      "metadata": {
        "id": "0fe4be2c"
      },
      "outputs": [],
      "source": [
        "(X_train, y_train), (X_test, y_test) = tf.keras.datasets.mnist.load_data()"
      ]
    },
    {
      "cell_type": "markdown",
      "source": [
        "### Checking data"
      ],
      "metadata": {
        "id": "yHK-fY3EZXf6"
      },
      "id": "yHK-fY3EZXf6"
    },
    {
      "cell_type": "code",
      "source": [
        "plt.figure(figsize=(18, 2))\n",
        "for i in range(10):\n",
        "    plt.subplot(1, 10, i+1)\n",
        "    plt.xticks([])\n",
        "    plt.yticks([])\n",
        "    plt.title(i)\n",
        "    plt.imshow(X_train[y_train==i][0].reshape(28,28), cmap = 'hot')"
      ],
      "metadata": {
        "colab": {
          "base_uri": "https://localhost:8080/",
          "height": 176
        },
        "id": "BKNFJNn6ZGf_",
        "outputId": "0b88d829-711f-4753-fa80-5b8a1df8d9be"
      },
      "id": "BKNFJNn6ZGf_",
      "execution_count": 3,
      "outputs": [
        {
          "output_type": "display_data",
          "data": {
            "text/plain": [
              "<Figure size 1800x200 with 10 Axes>"
            ],
            "image/png": "[encoded data removed]"
          },
          "metadata": {}
        }
      ]
    },
    {
      "cell_type": "markdown",
      "id": "f7b4f2ff",
      "metadata": {
        "id": "f7b4f2ff"
      },
      "source": [
        "### Preprocessing data"
      ]
    },
    {
      "cell_type": "code",
      "execution_count": 4,
      "id": "a2559900",
      "metadata": {
        "id": "a2559900"
      },
      "outputs": [],
      "source": [
        "# Scale images between 0 and 1\n",
        "X_train = X_train / 255\n",
        "X_test = X_test / 255\n",
        "\n",
        "# One-Hot encode labels\n",
        "y_train = tf.keras.utils.to_categorical(y_train)\n",
        "y_test = tf.keras.utils.to_categorical(y_test)"
      ]
    },
    {
      "cell_type": "markdown",
      "id": "d1db3b17",
      "metadata": {
        "id": "d1db3b17"
      },
      "source": [
        "### Define model"
      ]
    },
    {
      "cell_type": "code",
      "execution_count": 5,
      "id": "ed67c45f",
      "metadata": {
        "id": "ed67c45f"
      },
      "outputs": [],
      "source": [
        "model = tf.keras.Sequential([\n",
        "    layers.Input(shape=X_train.shape[1:]),\n",
        "    layers.Flatten(),\n",
        "    layers.Dense(200, activation='relu'),\n",
        "    layers.Dense(100, activation='relu'),\n",
        "    layers.Dense(50, activation='relu'),\n",
        "    # Return probabilities\n",
        "    layers.Dense(10, activation='softmax')\n",
        "])"
      ]
    },
    {
      "cell_type": "markdown",
      "id": "e710c2bb",
      "metadata": {
        "id": "e710c2bb"
      },
      "source": [
        "### Compile and train model"
      ]
    },
    {
      "cell_type": "code",
      "execution_count": 6,
      "id": "f3e93df8",
      "metadata": {
        "colab": {
          "base_uri": "https://localhost:8080/"
        },
        "id": "f3e93df8",
        "outputId": "73eca673-6105-44bd-fe15-ad0f2848e1cc"
      },
      "outputs": [
        {
          "output_type": "stream",
          "name": "stdout",
          "text": [
            "Epoch 1/10\n",
            "1500/1500 [==============================] - 10s 5ms/step - loss: 0.5576 - accuracy: 0.8538 - val_loss: 0.2507 - val_accuracy: 0.9328\n",
            "Epoch 2/10\n",
            "1500/1500 [==============================] - 9s 6ms/step - loss: 0.2292 - accuracy: 0.9351 - val_loss: 0.1902 - val_accuracy: 0.9459\n",
            "Epoch 3/10\n",
            "1500/1500 [==============================] - 10s 6ms/step - loss: 0.1757 - accuracy: 0.9502 - val_loss: 0.1579 - val_accuracy: 0.9564\n",
            "Epoch 4/10\n",
            "1500/1500 [==============================] - 5s 3ms/step - loss: 0.1420 - accuracy: 0.9603 - val_loss: 0.1412 - val_accuracy: 0.9593\n",
            "Epoch 5/10\n",
            "1500/1500 [==============================] - 5s 3ms/step - loss: 0.1193 - accuracy: 0.9664 - val_loss: 0.1289 - val_accuracy: 0.9627\n",
            "Epoch 6/10\n",
            "1500/1500 [==============================] - 5s 3ms/step - loss: 0.1009 - accuracy: 0.9718 - val_loss: 0.1125 - val_accuracy: 0.9670\n",
            "Epoch 7/10\n",
            "1500/1500 [==============================] - 6s 4ms/step - loss: 0.0870 - accuracy: 0.9754 - val_loss: 0.1112 - val_accuracy: 0.9678\n",
            "Epoch 8/10\n",
            "1500/1500 [==============================] - 5s 3ms/step - loss: 0.0756 - accuracy: 0.9788 - val_loss: 0.1014 - val_accuracy: 0.9694\n",
            "Epoch 9/10\n",
            "1500/1500 [==============================] - 4s 3ms/step - loss: 0.0660 - accuracy: 0.9818 - val_loss: 0.1025 - val_accuracy: 0.9699\n",
            "Epoch 10/10\n",
            "1500/1500 [==============================] - 5s 4ms/step - loss: 0.0584 - accuracy: 0.9841 - val_loss: 0.0988 - val_accuracy: 0.9710\n"
          ]
        },
        {
          "output_type": "execute_result",
          "data": {
            "text/plain": [
              "<keras.callbacks.History at 0x7fad3fa9da20>"
            ]
          },
          "metadata": {},
          "execution_count": 6
        }
      ],
      "source": [
        "  model.compile(\n",
        "      loss=tf.keras.losses.CategoricalCrossentropy(),\n",
        "      optimizer=tf.keras.optimizers.Adam(learning_rate=1e-4),\n",
        "      metrics=['accuracy']\n",
        "  )\n",
        "\n",
        "  model.fit(\n",
        "      X_train,\n",
        "      y_train,\n",
        "      epochs=10,\n",
        "      validation_split=0.2,\n",
        "  )"
      ]
    },
    {
      "cell_type": "markdown",
      "source": [
        "### Prune and quantize the model using the prune_quantize_save_model\n"
      ],
      "metadata": {
        "id": "ztOvzxFw0-iw"
      },
      "id": "ztOvzxFw0-iw"
    },
    {
      "cell_type": "code",
      "execution_count": 7,
      "id": "3ef8c556",
      "metadata": {
        "colab": {
          "base_uri": "https://localhost:8080/"
        },
        "id": "3ef8c556",
        "outputId": "f097f21f-5011-4e79-ac3a-dd59da90ce9f"
      },
      "outputs": [
        {
          "output_type": "stream",
          "name": "stdout",
          "text": [
            "Epoch 1/5\n",
            "53/53 [==============================] - 4s 38ms/step - loss: 0.6908 - accuracy: 0.7294 - val_loss: 0.5787 - val_accuracy: 0.7912\n",
            "Epoch 2/5\n",
            "53/53 [==============================] - 2s 35ms/step - loss: 0.5183 - accuracy: 0.8154 - val_loss: 0.4481 - val_accuracy: 0.8537\n",
            "Epoch 3/5\n",
            "53/53 [==============================] - 2s 41ms/step - loss: 0.4122 - accuracy: 0.8701 - val_loss: 0.3669 - val_accuracy: 0.8955\n",
            "Epoch 4/5\n",
            "53/53 [==============================] - 2s 43ms/step - loss: 0.3444 - accuracy: 0.9037 - val_loss: 0.3142 - val_accuracy: 0.9228\n",
            "Epoch 5/5\n",
            "53/53 [==============================] - 2s 35ms/step - loss: 0.2991 - accuracy: 0.9251 - val_loss: 0.2781 - val_accuracy: 0.9388\n",
            "Epoch 1/3\n",
            "53/53 [==============================] - 2s 24ms/step - loss: 0.2488 - accuracy: 0.9496 - val_loss: 0.2113 - val_accuracy: 0.9608\n",
            "Epoch 2/3\n",
            "53/53 [==============================] - 1s 20ms/step - loss: 0.1974 - accuracy: 0.9651 - val_loss: 0.1872 - val_accuracy: 0.9662\n",
            "Epoch 3/3\n",
            "53/53 [==============================] - 1s 20ms/step - loss: 0.1788 - accuracy: 0.9682 - val_loss: 0.1745 - val_accuracy: 0.9673\n"
          ]
        },
        {
          "output_type": "stream",
          "name": "stderr",
          "text": [
            "WARNING:absl:Please consider providing the trackable_obj argument in the from_concrete_functions. Providing without the trackable_obj argument is deprecated and it will use the deprecated conversion path.\n",
            "/usr/local/lib/python3.10/dist-packages/tensorflow/lite/python/convert.py:789: UserWarning: Statistics for quantized inputs were expected, but not specified; continuing anyway.\n",
            "  warnings.warn(\"Statistics for quantized inputs were expected, but not \"\n"
          ]
        }
      ],
      "source": [
        "from tinymltoolkit.network_shrinker import prune_quantize_save_model\n",
        "\n",
        "prune_quantize_save_model(\n",
        "    model=model,\n",
        "    X=X_train,\n",
        "    y=y_train,\n",
        "    path_to_tflite_model = 'quantised_model.tflite'\n",
        "  )"
      ]
    },
    {
      "cell_type": "markdown",
      "source": [
        "### Save the original model as a tflite with no optimisations to compare accuracy"
      ],
      "metadata": {
        "id": "KkAszew_2gGy"
      },
      "id": "KkAszew_2gGy"
    },
    {
      "cell_type": "code",
      "source": [
        "from tinymltoolkit.network_shrinker import save_keras_as_tflite_base\n",
        "\n",
        "save_keras_as_tflite_base(\n",
        "    model=model,\n",
        "    path_to_tflite_model='base_model.tflite'\n",
        ")"
      ],
      "metadata": {
        "colab": {
          "base_uri": "https://localhost:8080/"
        },
        "id": "SgK_-cKD18iA",
        "outputId": "16fcb8c0-5bbf-4479-84bb-fa0cd5ffbb97"
      },
      "id": "SgK_-cKD18iA",
      "execution_count": 8,
      "outputs": [
        {
          "output_type": "stream",
          "name": "stderr",
          "text": [
            "WARNING:absl:Found untraced functions such as _update_step_xla while saving (showing 1 of 1). These functions will not be directly callable after loading.\n"
          ]
        }
      ]
    },
    {
      "cell_type": "markdown",
      "source": [
        "### Test accuracy of both models"
      ],
      "metadata": {
        "id": "igVbJZ3a4kJR"
      },
      "id": "igVbJZ3a4kJR"
    },
    {
      "cell_type": "code",
      "source": [
        "from tinymltoolkit.network_shrinker import  run_tflite_model, get_tflite_model_size\n",
        "\n",
        "quantized_pred = run_tflite_model('quantised_model.tflite', X_test)\n",
        "\n",
        "base_pred = run_tflite_model('base_model.tflite', X_test)\n",
        "\n",
        "quantized_accuracy = np.mean(quantized_pred.argmax(1) == y_test.argmax(1))\n",
        "\n",
        "base_accuracy = np.mean(base_pred.argmax(1) == y_test.argmax(1))\n",
        "\n",
        "print(f\"\\nQuantized accuracy: {quantized_accuracy:.2f}, size: {get_tflite_model_size('quantised_model.tflite'):.2f} mb\")\n",
        "print(f\"Base accuracy: {base_accuracy:.2f}, size: {get_tflite_model_size('base_model.tflite'):.2f} mb\")"
      ],
      "metadata": {
        "colab": {
          "base_uri": "https://localhost:8080/"
        },
        "id": "kAZMDhIb4m3D",
        "outputId": "f4a2f297-fa1d-4804-b9cd-98a5cd8129e0"
      },
      "id": "kAZMDhIb4m3D",
      "execution_count": 9,
      "outputs": [
        {
          "output_type": "stream",
          "name": "stderr",
          "text": [
            "100%|██████████| 10000/10000 [00:00<00:00, 68374.95it/s]\n",
            "100%|██████████| 10000/10000 [00:00<00:00, 35186.05it/s]"
          ]
        },
        {
          "output_type": "stream",
          "name": "stdout",
          "text": [
            "\n",
            "Quantized accuracy: 0.96, size: 0.18 mb\n",
            "Base accuracy: 0.92, size: 0.70 mb\n"
          ]
        },
        {
          "output_type": "stream",
          "name": "stderr",
          "text": [
            "\n"
          ]
        }
      ]
    },
    {
      "cell_type": "code",
      "source": [],
      "metadata": {
        "id": "G3IFs6MfEjYi"
      },
      "id": "G3IFs6MfEjYi",
      "execution_count": null,
      "outputs": []
    }
  ],
  "metadata": {
    "kernelspec": {
      "display_name": "tinyml",
      "language": "python",
      "name": "tinyml"
    },
    "language_info": {
      "codemirror_mode": {
        "name": "ipython",
        "version": 3
      },
      "file_extension": ".py",
      "mimetype": "text/x-python",
      "name": "python",
      "nbconvert_exporter": "python",
      "pygments_lexer": "ipython3",
      "version": "3.11.4"
    },
    "colab": {
      "provenance": []
    }
  },
  "nbformat": 4,
  "nbformat_minor": 5
}